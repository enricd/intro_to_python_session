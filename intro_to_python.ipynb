{
 "cells": [
  {
   "cell_type": "markdown",
   "metadata": {},
   "source": [
    "# 🐍 Intro to Python 👨‍💻\n",
    "\n",
    "----\n",
    "\n",
    "## 🙋‍♂️ Enric Domingo \n",
    "\n",
    "*Principal a.i. ML & Software Engineer @ ERNI Spain* \n",
    "\n",
    "*Lecturer @ EAE Business School - Master in Big Data and Analytics*\n",
    "\n",
    "- 📹 YouTube: https://youtube.com/@enricd \n",
    "- 📝 Medium: https://medium.com/@enricdomingo \n",
    "- 👨‍💻 GitHub: https://github.com/enricd\n",
    "- 👔 LinkedIn: https://linkedin.com/in/e-domingo/ \n",
    "\n",
    "----\n",
    "\n",
    "## 📚 More (free 🤑) resources to Learn\n",
    "\n",
    "- Kaggle Courses: https://www.kaggle.com/learn\n",
    "- FreeCodeCamp: https://www.freecodecamp.org/learn/\n",
    "- Google for Education: https://developers.google.com/edu/python\n",
    "- Microsoft Learn: https://learn.microsoft.com/en-us/training/paths/beginner-python/ \n",
    "- Python Roadmap.sh: https://roadmap.sh/python \n",
    "- YouTube Videos: https://www.youtube.com/results?search_query=python+for+beginners \n",
    "\n",
    "----\n",
    "\n",
    "## 🚀 Ideas to put it in practice and start your portfolio\n",
    "\n",
    "- Participate in challenges like:\n",
    "    - Advent of Code: https://adventofcode.com/\n",
    "    - Kaggle Competitions: https://www.kaggle.com/competitions\n",
    "    - LeetCode: https://leetcode.com/\n",
    "- Create a personal website portfolio with Streamlit: https://www.streamlit.io/\n",
    "- Build a basic 2D game with Pygame: https://www.pygame.org/news\n",
    "\n",
    "----\n"
   ]
  },
  {
   "cell_type": "markdown",
   "metadata": {},
   "source": [
    "## 👋🏻 Intro and Setup\n",
    "\n",
    "- ### Intro to Python\n",
    "\n",
    "    - First release in 1991 by Guido van Rossum\n",
    "    \n",
    "    - Python 3.0 was released in 2008\n",
    "\n",
    "    - Python is an interpreted language (no need to compile, uses an interpreter that reads the code line by line and translates it into bytecode)\n",
    "\n",
    "    - Python is dynamically typed (no need to define the type of variables)\n",
    "\n",
    "    - It's multipurpose (Backend Web Development, Data & AI, Automation, Cyber, etc.)\n",
    "\n",
    "    - https://github.blog/news-insights/octoverse/octoverse-2024/#the-most-popular-programming-languages\n",
    "\n",
    "\n",
    "- ### How to install it\n",
    "\n",
    "    - Download it from the official website: https://www.python.org/downloads/ or from Homebrew (Mac) or apt-get (Linux)\n",
    "\n",
    "    - You can also download a IDE like PyCharm, Visual Studio Code, etc.\n",
    "\n",
    "    - You can run it online using Google Colab, Kaggle Notebooks, etc.\n",
    "\n",
    "\n",
    "- ### How to run it\n",
    "\n",
    "    - Python REPL (Read-Eval-Print-Loop) interactive shell from the Command Terminal\n",
    "\n",
    "    - Scripts (.py)\n",
    "\n",
    "    - Jupyter Notebooks (.ipynb)\n",
    "        - Local (vscode)\n",
    "        - Online (Google Colab, Kaggle Notebooks, etc.)\n",
    "\n",
    "---- "
   ]
  },
  {
   "cell_type": "markdown",
   "metadata": {},
   "source": [
    "## 👀 Overview\n",
    "\n",
    "1. ### Learn the Basics\n",
    "    - print()  \n",
    "    - Arithmetic  \n",
    "    - Comments #\n",
    "    - help()\n",
    "    - Basic data types (int, float, str, bool)\n",
    "    - Type casting \n",
    "    - Variables  \n",
    "    - Manipulating variables  \n",
    "    - Using multiple variables  \n",
    "    - input()\n",
    "    - Debugging errors\n",
    "    - Collection Data Types\n",
    "        - Lists\n",
    "        - Dictionaries\n",
    "        - Tuples\n",
    "        - Sets\n",
    "    - Conditionals (if, elif, else)\n",
    "    - Loops (for, while)\n",
    "\n",
    "2. ### Functions\n",
    "    - def my_function(arg1, arg2, kwarg1) -> return_type:\n",
    "    - Lambda Functions\n",
    "    - sorted, filter, map\n",
    "\n",
    "3. ### File Handling\n",
    "    - Reading files (open, read, close)\n",
    "    - Writing files (open, write, close)"
   ]
  },
  {
   "cell_type": "markdown",
   "metadata": {},
   "source": [
    "## 1. Learn the Basics"
   ]
  },
  {
   "cell_type": "code",
   "execution_count": 16,
   "metadata": {},
   "outputs": [
    {
     "name": "stdout",
     "output_type": "stream",
     "text": [
      "Hello, World!\n"
     ]
    }
   ],
   "source": [
    "# Printing\n",
    "\n",
    "print(\"Hello, World!\")"
   ]
  },
  {
   "cell_type": "code",
   "execution_count": 53,
   "metadata": {},
   "outputs": [
    {
     "name": "stdout",
     "output_type": "stream",
     "text": [
      "4\n",
      "30\n",
      "20\n",
      "5.0\n"
     ]
    }
   ],
   "source": [
    "# Arithmetic\n",
    "\n",
    "print(2 + 2)\n",
    "print(5 * 6)\n",
    "print(50 - 5 * 6)\n",
    "print((50 - 5 * 6) / 4)"
   ]
  },
  {
   "cell_type": "code",
   "execution_count": 54,
   "metadata": {},
   "outputs": [
    {
     "name": "stdout",
     "output_type": "stream",
     "text": [
      "3\n"
     ]
    }
   ],
   "source": [
    "# Comments\n",
    "\n",
    "# This is a comment explaining the following code: \n",
    "# Add 1 + 2\n",
    "print(1 + 2)"
   ]
  },
  {
   "cell_type": "code",
   "execution_count": 55,
   "metadata": {},
   "outputs": [
    {
     "name": "stdout",
     "output_type": "stream",
     "text": [
      "Help on built-in function print in module builtins:\n",
      "\n",
      "print(*args, sep=' ', end='\\n', file=None, flush=False)\n",
      "    Prints the values to a stream, or to sys.stdout by default.\n",
      "    \n",
      "    sep\n",
      "      string inserted between values, default a space.\n",
      "    end\n",
      "      string appended after the last value, default a newline.\n",
      "    file\n",
      "      a file-like object (stream); defaults to the current sys.stdout.\n",
      "    flush\n",
      "      whether to forcibly flush the stream.\n",
      "\n"
     ]
    }
   ],
   "source": [
    "# help()\n",
    "\n",
    "help(print)"
   ]
  },
  {
   "cell_type": "code",
   "execution_count": 58,
   "metadata": {},
   "outputs": [
    {
     "name": "stdout",
     "output_type": "stream",
     "text": [
      "Hello, World!----hello again\n"
     ]
    }
   ],
   "source": [
    "print(\"Hello, World!\", end=\"----\")\n",
    "print(\"hello again\")"
   ]
  },
  {
   "cell_type": "code",
   "execution_count": 60,
   "metadata": {},
   "outputs": [
    {
     "data": {
      "text/plain": [
       "False"
      ]
     },
     "execution_count": 60,
     "metadata": {},
     "output_type": "execute_result"
    }
   ],
   "source": [
    "# Basic Data Types\n",
    "\n",
    "# Integers (int)\n",
    "2\n",
    "-104\n",
    "\n",
    "# Floating Point Numbers (float)\n",
    "42.0\n",
    "-3.14\n",
    "\n",
    "# Strings (str)\n",
    "\"Hi there #!+?\"\n",
    "\"a\"\n",
    "'Hi there #!+?'\n",
    "'a'\n",
    "\n",
    "# Boolean (bool)\n",
    "True\n",
    "False"
   ]
  },
  {
   "cell_type": "code",
   "execution_count": 62,
   "metadata": {},
   "outputs": [
    {
     "name": "stdout",
     "output_type": "stream",
     "text": [
      "3.14 3\n",
      "3 3\n",
      "3 3.0\n",
      "34 34\n",
      "True 1\n",
      "False 0\n",
      "0 False\n",
      "1 True\n"
     ]
    }
   ],
   "source": [
    "# Type Casting\n",
    "\n",
    "print(3.14, int(3.14))\n",
    "print(\"3\", int(\"3\"))\n",
    "print(3, float(3))\n",
    "print(34, str(34))\n",
    "print(True, int(True))\n",
    "print(False, int(False))\n",
    "print(0, bool(0))\n",
    "print(1, bool(1))"
   ]
  },
  {
   "cell_type": "code",
   "execution_count": 64,
   "metadata": {},
   "outputs": [
    {
     "name": "stdout",
     "output_type": "stream",
     "text": [
      "343.0 <class 'float'>\n"
     ]
    }
   ],
   "source": [
    "a = 343.0\n",
    "\n",
    "print(a, type(a))"
   ]
  },
  {
   "cell_type": "code",
   "execution_count": 65,
   "metadata": {},
   "outputs": [
    {
     "name": "stdout",
     "output_type": "stream",
     "text": [
      "Hi James Bond ,you have 7 emails pending. ( 21 minutes of reading).\n"
     ]
    }
   ],
   "source": [
    "# Variables\n",
    "\n",
    "name = \"James\"\n",
    "surname = \"Bond\"\n",
    "emails_pending = 7\n",
    "minutes_per_mail = 3\n",
    "total_time = emails_pending * minutes_per_mail\n",
    "\n",
    "print(\"Hi\", name, surname, \",you have\", emails_pending, \"emails pending.\", \"(\", total_time, \"minutes of reading).\")"
   ]
  },
  {
   "cell_type": "code",
   "execution_count": 68,
   "metadata": {},
   "outputs": [
    {
     "name": "stdout",
     "output_type": "stream",
     "text": [
      "abc\n"
     ]
    }
   ],
   "source": [
    "a = 3\n",
    "a = \"abc\"\n",
    "\n",
    "print(a)"
   ]
  },
  {
   "cell_type": "code",
   "execution_count": null,
   "metadata": {},
   "outputs": [],
   "source": []
  },
  {
   "cell_type": "code",
   "execution_count": 69,
   "metadata": {},
   "outputs": [
    {
     "name": "stdout",
     "output_type": "stream",
     "text": [
      "Enric, Your BMI is 25.826446280991735\n"
     ]
    }
   ],
   "source": [
    "# input()\n",
    "\n",
    "name = input(\"What is your name? \")\n",
    "weight = float(input(\"What is your weight? (Kg) \"))\n",
    "height = float(input(\"What is your height? (m) \"))\n",
    "\n",
    "bmi = weight / (height ** 2)\n",
    "\n",
    "print(f\"{name}, Your BMI is {bmi}\")"
   ]
  },
  {
   "cell_type": "code",
   "execution_count": 74,
   "metadata": {},
   "outputs": [
    {
     "name": "stdout",
     "output_type": "stream",
     "text": [
      "4 <class 'str'>\n",
      "7 <class 'str'>\n"
     ]
    },
    {
     "ename": "TypeError",
     "evalue": "can't multiply sequence by non-int of type 'str'",
     "output_type": "error",
     "traceback": [
      "\u001b[0;31m---------------------------------------------------------------------------\u001b[0m",
      "\u001b[0;31mTypeError\u001b[0m                                 Traceback (most recent call last)",
      "Cell \u001b[0;32mIn[74], line 10\u001b[0m\n\u001b[1;32m      7\u001b[0m \u001b[38;5;28mprint\u001b[39m(b, \u001b[38;5;28mtype\u001b[39m(b))\n\u001b[1;32m      9\u001b[0m \u001b[38;5;66;03m# this will cause an error...\u001b[39;00m\n\u001b[0;32m---> 10\u001b[0m \u001b[38;5;28mprint\u001b[39m(\u001b[38;5;124m\"\u001b[39m\u001b[38;5;124mProduct of a * b:\u001b[39m\u001b[38;5;124m\"\u001b[39m, \u001b[43ma\u001b[49m\u001b[43m \u001b[49m\u001b[38;5;241;43m*\u001b[39;49m\u001b[43m \u001b[49m\u001b[43mb\u001b[49m)\n",
      "\u001b[0;31mTypeError\u001b[0m: can't multiply sequence by non-int of type 'str'"
     ]
    }
   ],
   "source": [
    "# Debugging Errors\n",
    "\n",
    "a = input(\"Type a number: \")\n",
    "b = input(\"Type another number: \")\n",
    "\n",
    "print(a, type(a))\n",
    "print(b, type(b))\n",
    "\n",
    "# this will cause an error...\n",
    "print(\"Product of a * b:\", a * b)"
   ]
  },
  {
   "cell_type": "code",
   "execution_count": 77,
   "metadata": {},
   "outputs": [
    {
     "name": "stdout",
     "output_type": "stream",
     "text": [
      "[1, 2, 3, 4, 4, 4, 'cat', True, 3.14, [1, 2, 3, [1, 2, 3]]]\n",
      "{'name': 'James', 'surname': 'Bond', 'age': 45}\n",
      "(1, 2, 3, 4, 5)\n",
      "{1, 2, 3, 4, 5}\n"
     ]
    }
   ],
   "source": [
    "# Collection Data Types\n",
    "\n",
    "# Lists (mutables, ordered, indexed, allows duplicates)\n",
    "my_list = [1, 2, 3, 4, 4, 4, \"cat\", True, 3.14, [1, 2, 3, [1, 2, 3]]]\n",
    "print(my_list)\n",
    "\n",
    "# Dictionaries (mutables, unordered, indexed, no duplicate keys) {key: value}\n",
    "my_dict = {\n",
    "    \"name\": \"James\", \n",
    "    \"surname\": \"Bond\", \n",
    "    \"age\": 45,\n",
    "    \"cars\": [\"Aston Martin\", \"BMW\", \"Audi\"],\n",
    "    \"sons\": {\n",
    "        \"son1\": \"John\",\n",
    "        \"son2\": \"Peter\"\n",
    "    }\n",
    "}\n",
    "print(my_dict)\n",
    "\n",
    "# Tuples (immutables, ordered, indexed, allows duplicates)\n",
    "my_tuple = (1, 2, 3, 4, 5)\n",
    "print(my_tuple)\n",
    "\n",
    "# Sets (mutables, unordered, no duplicates)\n",
    "my_set = {1, 2, 3, 4, 5}\n",
    "print(my_set)"
   ]
  },
  {
   "cell_type": "code",
   "execution_count": 81,
   "metadata": {},
   "outputs": [
    {
     "name": "stdout",
     "output_type": "stream",
     "text": [
      "[23, 24, 24, 26, 27, 26, 29, 30, 26] <class 'list'>\n"
     ]
    },
    {
     "data": {
      "text/plain": [
       "{23, 24, 26, 27, 29, 30}"
      ]
     },
     "execution_count": 81,
     "metadata": {},
     "output_type": "execute_result"
    }
   ],
   "source": [
    "my_temperature = [23, 24, 24, 26, 27, 26, 29, 30, 26] \n",
    "\n",
    "print(my_temperature, type(my_temperature))\n",
    "set(my_temperature)"
   ]
  },
  {
   "cell_type": "code",
   "execution_count": 92,
   "metadata": {},
   "outputs": [
    {
     "name": "stdout",
     "output_type": "stream",
     "text": [
      "It's cold\n",
      "Finish\n"
     ]
    }
   ],
   "source": [
    "# Conditionals\n",
    "\n",
    "temperature = 10\n",
    "\n",
    "if temperature < 15:\n",
    "    print(\"It's cold\")\n",
    "elif temperature < 25:\n",
    "    print(\"It's warm\")\n",
    "elif temperature < 35:\n",
    "    print(\"It's hot\")\n",
    "else:\n",
    "    print(\"It's lava\")\n",
    "\n",
    "\n",
    "print(\"Finish\")\n"
   ]
  },
  {
   "cell_type": "code",
   "execution_count": 98,
   "metadata": {},
   "outputs": [
    {
     "data": {
      "text/plain": [
       "[2, 7, 12, 17]"
      ]
     },
     "execution_count": 98,
     "metadata": {},
     "output_type": "execute_result"
    }
   ],
   "source": [
    "list(range(2, 20, 5))"
   ]
  },
  {
   "cell_type": "code",
   "execution_count": 96,
   "metadata": {},
   "outputs": [
    {
     "name": "stdout",
     "output_type": "stream",
     "text": [
      "0\n",
      "1\n",
      "2\n",
      "3\n",
      "4\n",
      "5\n",
      "6\n",
      "7\n",
      "8\n",
      "9\n"
     ]
    }
   ],
   "source": [
    "# Loops\n",
    "\n",
    "# For Loop\n",
    "\n",
    "for i in range(10):\n",
    "    print(i)"
   ]
  },
  {
   "cell_type": "code",
   "execution_count": 103,
   "metadata": {},
   "outputs": [
    {
     "name": "stdout",
     "output_type": "stream",
     "text": [
      "Hello JAMES\n",
      "Hello JOHN\n",
      "Hello JANE\n",
      "Hello JACK\n",
      "Hello MARY\n",
      "Hello THOMAS\n"
     ]
    }
   ],
   "source": [
    "names = [\"James\", \"John\", \"Jane\", \"Jack\", \"Mary\", \"Thomas\"]\n",
    "for name in names:\n",
    "    if True:\n",
    "        print(\"Hello\", name.upper())"
   ]
  },
  {
   "cell_type": "code",
   "execution_count": 107,
   "metadata": {},
   "outputs": [
    {
     "name": "stdout",
     "output_type": "stream",
     "text": [
      "0\n",
      "1\n",
      "2\n",
      "3\n",
      "4\n"
     ]
    }
   ],
   "source": [
    "# While Loop\n",
    "\n",
    "i = 0\n",
    "while i < 5:\n",
    "    print(i)\n",
    "    i += 1   # i = i + 1"
   ]
  },
  {
   "cell_type": "code",
   "execution_count": 110,
   "metadata": {},
   "outputs": [
    {
     "name": "stdout",
     "output_type": "stream",
     "text": [
      "2\n",
      "4\n",
      "6\n",
      "8\n",
      "10\n",
      "---\n",
      "2\n",
      "4\n",
      "6\n",
      "8\n",
      "10\n"
     ]
    }
   ],
   "source": [
    "my_nums = [1, 2, 3, 4, 5]\n",
    "\n",
    "i = 0\n",
    "while i < len(my_nums):\n",
    "    print(my_nums[i]*2)\n",
    "    i += 1\n",
    "\n",
    "print(\"---\")\n",
    "\n",
    "\n",
    "for n in my_nums:\n",
    "    print(n*2)"
   ]
  },
  {
   "cell_type": "markdown",
   "metadata": {},
   "source": [
    "## 2. Functions"
   ]
  },
  {
   "cell_type": "code",
   "execution_count": 119,
   "metadata": {},
   "outputs": [],
   "source": [
    "# Functions\n",
    "\n",
    "def my_function():\n",
    "    print(\"Hello from my function, I'm a function!\")\n"
   ]
  },
  {
   "cell_type": "code",
   "execution_count": 118,
   "metadata": {},
   "outputs": [
    {
     "name": "stdout",
     "output_type": "stream",
     "text": [
      "Hello from my function, I'm a function!\n",
      "None\n"
     ]
    }
   ],
   "source": [
    "a = my_function()\n",
    "\n",
    "print(a)"
   ]
  },
  {
   "cell_type": "code",
   "execution_count": 117,
   "metadata": {},
   "outputs": [
    {
     "name": "stdout",
     "output_type": "stream",
     "text": [
      "7\n"
     ]
    }
   ],
   "source": [
    "def add_numbers(a, b):\n",
    "    result = a + b\n",
    "    return result\n",
    "\n",
    "result = add_numbers(3, 4)\n",
    "\n",
    "print(result)"
   ]
  },
  {
   "cell_type": "code",
   "execution_count": 122,
   "metadata": {},
   "outputs": [],
   "source": [
    "def calculate_bmi(weight, height):\n",
    "\n",
    "    bmi = weight / (height ** 2)\n",
    "\n",
    "    print(f\"Your BMI is {bmi}\")"
   ]
  },
  {
   "cell_type": "code",
   "execution_count": 123,
   "metadata": {},
   "outputs": [
    {
     "name": "stdout",
     "output_type": "stream",
     "text": [
      "Your BMI is 22.857142857142858\n",
      "Your BMI is 26.122448979591837\n",
      "Your BMI is 29.387755102040817\n",
      "Your BMI is 32.6530612244898\n"
     ]
    }
   ],
   "source": [
    "calculate_bmi(70, 1.75)\n",
    "calculate_bmi(80, 1.75)\n",
    "calculate_bmi(90, 1.75)\n",
    "calculate_bmi(100, 1.75)"
   ]
  },
  {
   "cell_type": "code",
   "execution_count": null,
   "metadata": {},
   "outputs": [],
   "source": []
  },
  {
   "cell_type": "code",
   "execution_count": 124,
   "metadata": {},
   "outputs": [
    {
     "data": {
      "text/plain": [
       "7"
      ]
     },
     "execution_count": 124,
     "metadata": {},
     "output_type": "execute_result"
    }
   ],
   "source": [
    "# lambda functions\n",
    "\n",
    "add_numbers = lambda a, b: a + b\n",
    "\n",
    "add_numbers(3, 4)"
   ]
  },
  {
   "cell_type": "code",
   "execution_count": 43,
   "metadata": {},
   "outputs": [
    {
     "name": "stdout",
     "output_type": "stream",
     "text": [
      "Hello, World!\n"
     ]
    }
   ],
   "source": [
    "# built-in functions\n",
    "\n",
    "print(\"Hello World!\")"
   ]
  },
  {
   "cell_type": "code",
   "execution_count": 125,
   "metadata": {},
   "outputs": [
    {
     "data": {
      "text/plain": [
       "[2, 4, 6]"
      ]
     },
     "execution_count": 125,
     "metadata": {},
     "output_type": "execute_result"
    }
   ],
   "source": [
    "nums = [1, 2, 3, 4, 5, 6, 7]\n",
    "\n",
    "list(filter(lambda x: x % 2 == 0, nums))"
   ]
  },
  {
   "cell_type": "code",
   "execution_count": 126,
   "metadata": {},
   "outputs": [
    {
     "data": {
      "text/plain": [
       "(7, 1, 28)"
      ]
     },
     "execution_count": 126,
     "metadata": {},
     "output_type": "execute_result"
    }
   ],
   "source": [
    "max(nums), min(nums), sum(nums)"
   ]
  },
  {
   "cell_type": "markdown",
   "metadata": {},
   "source": [
    "## 3. File Handling"
   ]
  },
  {
   "cell_type": "code",
   "execution_count": 128,
   "metadata": {},
   "outputs": [
    {
     "name": "stdout",
     "output_type": "stream",
     "text": [
      "Hello everyone!\n",
      "\n",
      "Cook receipe for pasta:\n",
      "\n",
      "- spaghetti\n",
      "- tomato sauce\n",
      "- salt\n",
      "- pepper\n",
      "\n",
      "Enjoy your meal!\n",
      "\n",
      "Finished\n"
     ]
    }
   ],
   "source": [
    "# Read files \n",
    "\n",
    "with open(\"my_text.txt\", \"r\") as file:\n",
    "    content = file.read()\n",
    "    print(content)\n"
   ]
  },
  {
   "cell_type": "code",
   "execution_count": 132,
   "metadata": {},
   "outputs": [
    {
     "name": "stdout",
     "output_type": "stream",
     "text": [
      "\n",
      "\n",
      "--> File: 1\n",
      "Hello everyone!\n",
      "\n",
      "Cook receipe for pasta:\n",
      "\n",
      "- spaghetti\n",
      "- tomato sauce\n",
      "- salt\n",
      "- pepper\n",
      "\n",
      "Enjoy your meal!\n",
      "\n",
      "Finished\n",
      "\n",
      "\n",
      "--> File: 2\n",
      "Bye\n",
      "\n",
      "\n",
      "--> File: 3\n",
      "pizza receipe:\n",
      "\n",
      "- dough\n",
      "- tomato sauce\n",
      "- cheese\n",
      "- pepperoni\n",
      "- mushrooms\n",
      "\n",
      "\n",
      "\n",
      "\n"
     ]
    }
   ],
   "source": [
    "for i in range(1, 4):\n",
    "    with open(f\"my_text_{i}.txt\", \"r\") as file:\n",
    "        print(\"\\n\\n--> File:\", i)\n",
    "        content = file.read()\n",
    "        print(content)"
   ]
  },
  {
   "cell_type": "code",
   "execution_count": null,
   "metadata": {},
   "outputs": [],
   "source": []
  }
 ],
 "metadata": {
  "kernelspec": {
   "display_name": "Python 3",
   "language": "python",
   "name": "python3"
  },
  "language_info": {
   "codemirror_mode": {
    "name": "ipython",
    "version": 3
   },
   "file_extension": ".py",
   "mimetype": "text/x-python",
   "name": "python",
   "nbconvert_exporter": "python",
   "pygments_lexer": "ipython3",
   "version": "3.11.8"
  }
 },
 "nbformat": 4,
 "nbformat_minor": 2
}
